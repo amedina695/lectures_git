{
 "cells": [
  {
   "cell_type": "code",
   "execution_count": null,
   "id": "154ef588",
   "metadata": {},
   "outputs": [],
   "source": [
    "import astropy as ast\n",
    "import numpy as np\n",
    "import matplotlib.pyplot as plt\n",
    "import scipy as scipy\n",
    "import pandas as pd\n",
    "import os\n",
    "import time"
   ]
  },
  {
   "cell_type": "code",
   "execution_count": 10,
   "id": "39e639f8",
   "metadata": {},
   "outputs": [
    {
     "data": {
      "text/plain": [
       "['.git', 'ast5765_lecture3.ipynb', 'test_env.ipynb']"
      ]
     },
     "execution_count": 10,
     "metadata": {},
     "output_type": "execute_result"
    }
   ],
   "source": [
    "os.listdir()"
   ]
  },
  {
   "cell_type": "code",
   "execution_count": 11,
   "id": "f2deccde",
   "metadata": {},
   "outputs": [
    {
     "data": {
      "text/plain": [
       "['.git', 'ast5765_lecture3.ipynb', 'testme', 'test_env.ipynb']"
      ]
     },
     "execution_count": 11,
     "metadata": {},
     "output_type": "execute_result"
    }
   ],
   "source": [
    "os.mkdir('testme')\n",
    "os.listdir()"
   ]
  },
  {
   "cell_type": "code",
   "execution_count": 12,
   "id": "092186c8",
   "metadata": {},
   "outputs": [
    {
     "data": {
      "text/plain": [
       "['.git', 'ast5765_lecture3.ipynb', 'test_env.ipynb']"
      ]
     },
     "execution_count": 12,
     "metadata": {},
     "output_type": "execute_result"
    }
   ],
   "source": [
    "os.rmdir('testme')\n",
    "os.listdir()"
   ]
  },
  {
   "cell_type": "markdown",
   "id": "729b34c8",
   "metadata": {},
   "source": [
    "Make an array"
   ]
  },
  {
   "cell_type": "code",
   "execution_count": 16,
   "id": "21d011c9",
   "metadata": {},
   "outputs": [
    {
     "name": "stdout",
     "output_type": "stream",
     "text": [
      "[  1  23  45  67  89 111 133 155 177 199 221 243 265 287 309 331 353 375\n",
      " 397 419 441]\n"
     ]
    }
   ],
   "source": [
    "x1 = np.arange(1, 442, 22)\n",
    "print(x1)"
   ]
  },
  {
   "cell_type": "code",
   "execution_count": 17,
   "id": "817b6213",
   "metadata": {},
   "outputs": [],
   "source": [
    "y1 = x1**2 + x1"
   ]
  },
  {
   "cell_type": "code",
   "execution_count": null,
   "id": "6a55d76f",
   "metadata": {},
   "outputs": [
    {
     "data": {
      "image/png": "[encoded data removed]",
      "text/plain": [
       "<Figure size 640x480 with 1 Axes>"
      ]
     },
     "metadata": {},
     "output_type": "display_data"
    }
   ],
   "source": [
    "#interactive for a .py\n",
    "#plt.ion()\n",
    "\n",
    "plt.plot(x1, y1)\n",
    "plt.show()\n",
    "\n",
    "#make publication readyy by adding titles, changing width sizes, text sizezs, clean it up, etc."
   ]
  },
  {
   "cell_type": "markdown",
   "id": "7cfb61ac",
   "metadata": {},
   "source": [
    "Avoid with open() becasue it only opens in strings.\n",
    "\n",
    "if good data\n",
    "\n",
    "np.loadtxt() or np.genfromtxt()\n",
    "    needs all data to be numeric\n",
    "\n",
    "if data has isses or gaps, use pandas"
   ]
  },
  {
   "cell_type": "code",
   "execution_count": 24,
   "id": "d48984b8",
   "metadata": {},
   "outputs": [
    {
     "data": {
      "text/plain": [
       "(104, 5)"
      ]
     },
     "execution_count": 24,
     "metadata": {},
     "output_type": "execute_result"
    }
   ],
   "source": [
    "file_data = np.loadtxt(r'C:\\Users\\Alex\\Desktop\\AST5765\\lectures_git\\read_data_example.dat')\n",
    "\n",
    "#or\n",
    "#file_data2 = np.genfromtxt(r'C:\\Users\\Alex\\Desktop\\AST5765\\lectures_git\\read_data_example.txt')\n",
    "\n",
    "#to see what your data looks like\n",
    "file_data.shape"
   ]
  },
  {
   "cell_type": "code",
   "execution_count": 25,
   "id": "23498907",
   "metadata": {},
   "outputs": [],
   "source": [
    "#assign the first column to an array wav\n",
    "#and the 2 and fifth cplimns to arrays model_N with N=1 to 4\n",
    "\n",
    "\n",
    "wav = file_data[:,0]\n",
    "model_1, model_2, model_3, model_4 = file_data[:,1 ], file_data[:,2], \\\n",
    "                                     file_data[:, 3], file_data[:,4]"
   ]
  },
  {
   "cell_type": "code",
   "execution_count": 26,
   "id": "d90e23ee",
   "metadata": {},
   "outputs": [
    {
     "data": {
      "text/plain": [
       "<Figure size 400x200 with 0 Axes>"
      ]
     },
     "execution_count": 26,
     "metadata": {},
     "output_type": "execute_result"
    },
    {
     "data": {
      "text/plain": [
       "<Figure size 400x200 with 0 Axes>"
      ]
     },
     "metadata": {},
     "output_type": "display_data"
    }
   ],
   "source": [
    "plt.figure(figsize= (4, 2))"
   ]
  },
  {
   "cell_type": "code",
   "execution_count": 28,
   "id": "c8377036",
   "metadata": {},
   "outputs": [],
   "source": [
    "omegacen_pd = pd.read_csv(r\"C:\\Users\\Alex\\Desktop\\AST5765\\lectures_git\\omega_cen.csv\")"
   ]
  },
  {
   "cell_type": "code",
   "execution_count": 29,
   "id": "960440c3",
   "metadata": {},
   "outputs": [
    {
     "data": {
      "text/plain": [
       "<bound method NDFrame.describe of           RAJ2000   _DEJ2000 n_Seq     Seq   RAJ2000.1    DEJ2000   pmRA  \\\n",
       "0      201.802082 -47.750289             1  201.802078 -47.750278  -3.25   \n",
       "1      201.763720 -47.750274             2  201.763730 -47.750272   7.26   \n",
       "2      201.799369 -47.750249             3  201.799369 -47.750242  -0.41   \n",
       "3      201.641881 -47.750164             4  201.641896 -47.750155  11.20   \n",
       "4      201.611637 -47.750130             5  201.611638 -47.750119   0.43   \n",
       "...           ...        ...   ...     ...         ...        ...    ...   \n",
       "99994  201.759061 -47.552519        104026  201.759061 -47.552518   0.01   \n",
       "99995  201.758385 -47.552506        104027  201.758385 -47.552503   0.21   \n",
       "99996  201.751088 -47.552485        104028  201.751094 -47.552481   4.12   \n",
       "99997  201.750175 -47.552463        104029  201.750174 -47.552465  -0.55   \n",
       "99998  201.745469 -47.552487        104030  201.745469 -47.552488  -0.10   \n",
       "\n",
       "        pmDE    Umag  e_Umag    Bmag  e_Bmag    Vmag  e_Vmag   Icmag  e_Icmag  \n",
       "0      11.78                  20.535   0.056  19.842   0.155  18.729    0.071  \n",
       "1       1.98                  19.254   0.064  18.681   0.044  17.909    0.033  \n",
       "2       7.24                  21.173   0.080  20.441   0.046  19.437    0.058  \n",
       "3       9.50                  20.938   0.060  20.242   0.083  19.308    0.081  \n",
       "4      11.93                  17.145   0.015  16.632   0.016  15.953    0.035  \n",
       "...      ...     ...     ...     ...     ...     ...     ...     ...      ...  \n",
       "99994   0.80  20.398   0.500  20.125   0.019  19.442   0.058  18.535    0.076  \n",
       "99995   2.67  19.906   0.242  19.932   0.037  19.232   0.020              NaN  \n",
       "99996   4.65  19.456   0.069  19.805   0.106  19.046   0.037  18.268    0.098  \n",
       "99997  -2.14  19.154   0.177  19.529   0.148  18.854   0.050  18.066    0.070  \n",
       "99998  -1.61  19.826   0.210  19.917   0.195  19.074   0.061  18.256    0.065  \n",
       "\n",
       "[99999 rows x 16 columns]>"
      ]
     },
     "execution_count": 29,
     "metadata": {},
     "output_type": "execute_result"
    }
   ],
   "source": [
    "omegacen_pd.describe"
   ]
  },
  {
   "cell_type": "code",
   "execution_count": 30,
   "id": "10132c08",
   "metadata": {},
   "outputs": [
    {
     "name": "stdout",
     "output_type": "stream",
     "text": [
      "0        20.535\n",
      "1        19.254\n",
      "2        21.173\n",
      "3        20.938\n",
      "4        17.145\n",
      "          ...  \n",
      "99994    20.125\n",
      "99995    19.932\n",
      "99996    19.805\n",
      "99997    19.529\n",
      "99998    19.917\n",
      "Name: Bmag, Length: 99999, dtype: object\n"
     ]
    }
   ],
   "source": [
    "#getting the B and V magnitudes\n",
    "B = omegacen_pd['Bmag']\n",
    "print(B)"
   ]
  },
  {
   "cell_type": "code",
   "execution_count": 40,
   "id": "83605916",
   "metadata": {},
   "outputs": [
    {
     "name": "stdout",
     "output_type": "stream",
     "text": [
      "[0.325 0.33  0.335 0.34  0.345 0.35 ]\n",
      "[0.325 0.345 0.365 0.385 0.405 0.425 0.445 0.465 0.485 0.505 0.525 0.545]\n",
      "[1.59053 1.58933 1.58796 1.58677 1.58572 1.58476 1.58374 1.58304 1.58233\n",
      " 1.58156 1.58119 1.58077 1.58035 1.58024 1.57981 1.57953 1.57949 1.57943\n",
      " 1.57937]\n",
      "[1.59053 1.58933 1.58796 1.58677 1.58572 1.58476 1.58374 1.58304 1.58233\n",
      " 1.58156 1.58119 1.58077 1.58035 1.58024 1.57981 1.57953 1.57949 1.57943\n",
      " 1.57937]\n"
     ]
    }
   ],
   "source": [
    "#we have wav already\n",
    "print(wav[5:11])\n",
    "\n",
    "print(wav[5:53:4])\n",
    "\n",
    "#model_2 do only wavelengths between 0.4 and 0.5\n",
    "#masking\n",
    "print(model_2[(wav > 0.4) & (wav < 0.5)])\n",
    "#or\n",
    "print(model_2[np.where((wav > 0.4) & (wav < 0.5))])\n",
    "\n",
    "\n",
    "#model_1 only values for those wavelengths in whic model_3 is larger than 0.7"
   ]
  },
  {
   "cell_type": "code",
   "execution_count": 41,
   "id": "c11cd1ca",
   "metadata": {},
   "outputs": [
    {
     "name": "stdout",
     "output_type": "stream",
     "text": [
      "[1.59053 1.58933 1.58796 1.58677 1.58572 1.58476 1.58374 1.58304 1.58233\n",
      " 1.58156 1.58119 1.58077 1.58035 1.58024 1.57981 1.57953 1.57949 1.57943\n",
      " 1.57937 1.57957 1.5796  1.57968 1.57995 1.58013 1.58052 1.58068 1.58119\n",
      " 1.5816  1.58201 1.58259 1.5831  1.58367 1.58428 1.58491 1.58563 1.58632\n",
      " 1.58709 1.58782 1.58861 1.58929 1.59017 1.59097 1.59186 1.5927  1.59358\n",
      " 1.59448 1.59543 1.59626 1.59722 1.59822 1.59909 1.6001  1.60102 1.60202\n",
      " 1.60302 1.60397 1.60497 1.60585 1.60689 1.60802 1.60883 1.60991 1.61081\n",
      " 1.61166 1.61273 1.61371 1.6147  1.6157  1.61666 1.61762 1.61853 1.61938\n",
      " 1.62025 1.62116 1.62203 1.62301 1.62385 1.62471 1.62569 1.62657 1.62732\n",
      " 1.62808 1.62884]\n"
     ]
    }
   ],
   "source": [
    "print(model_2[ (wav > 0.4)])"
   ]
  },
  {
   "cell_type": "code",
   "execution_count": 44,
   "id": "916dd473",
   "metadata": {},
   "outputs": [
    {
     "name": "stdout",
     "output_type": "stream",
     "text": [
      "model_3 min 0.517187\n",
      "model_4 mean 0.30150964999999996\n",
      "model_2 max 1.6509\n"
     ]
    }
   ],
   "source": [
    "print(\"model_3 min\", np.min(model_3))\n",
    "print(\"model_4 mean\", np.mean(model_4))\n",
    "print(\"model_2 max\", np.max(model_2))\n"
   ]
  },
  {
   "cell_type": "code",
   "execution_count": 46,
   "id": "d6de1f84",
   "metadata": {},
   "outputs": [],
   "source": [
    "two_dim_data = np.genfromtxt(r\"C:\\Users\\Alex\\Desktop\\AST5765\\lectures_git\\2Ddata_example.dat\")"
   ]
  },
  {
   "cell_type": "code",
   "execution_count": null,
   "id": "2365e983",
   "metadata": {},
   "outputs": [
    {
     "name": "stdout",
     "output_type": "stream",
     "text": [
      "[[0. 0. 0. 0. 0. 5. 0. 2. 0. 0. 0. 0. 0. 0. 0. 0. 0. 0.]\n",
      " [0. 0. 0. 0. 0. 1. 0. 3. 0. 0. 0. 0. 0. 0. 0. 0. 0. 0.]\n",
      " [0. 0. 0. 0. 0. 2. 0. 1. 0. 0. 0. 0. 0. 0. 0. 0. 0. 0.]\n",
      " [0. 0. 0. 0. 0. 2. 0. 3. 0. 0. 0. 0. 0. 0. 0. 0. 0. 0.]\n",
      " [0. 0. 0. 0. 0. 2. 0. 3. 0. 0. 0. 0. 0. 0. 0. 0. 0. 0.]\n",
      " [0. 0. 0. 0. 0. 3. 0. 2. 0. 0. 0. 0. 0. 0. 0. 0. 0. 0.]]\n"
     ]
    }
   ],
   "source": [
    "#lines then columns\n",
    "\n",
    "print(two_dim_data[6:12, 11:29])\n",
    "\n"
   ]
  },
  {
   "cell_type": "code",
   "execution_count": 51,
   "id": "ad2c1c63",
   "metadata": {},
   "outputs": [
    {
     "data": {
      "text/plain": [
       "<matplotlib.image.AxesImage at 0x2ccc24dced0>"
      ]
     },
     "execution_count": 51,
     "metadata": {},
     "output_type": "execute_result"
    },
    {
     "data": {
      "image/png": "[encoded data removed]",
      "text/plain": [
       "<Figure size 640x480 with 1 Axes>"
      ]
     },
     "metadata": {},
     "output_type": "display_data"
    }
   ],
   "source": [
    "#plot a 2D dataset\n",
    "\n",
    "plt.imshow(two_dim_data)"
   ]
  },
  {
   "cell_type": "code",
   "execution_count": null,
   "id": "4af02a03",
   "metadata": {},
   "outputs": [
    {
     "data": {
      "image/png": "[encoded data removed]",
      "text/plain": [
       "<Figure size 640x480 with 1 Axes>"
      ]
     },
     "metadata": {},
     "output_type": "display_data"
    }
   ],
   "source": [
    "dm = plt.contourf(np.flip(two_dim_data, 0))\n",
    "#or leave data untouched using invert_yaxis"
   ]
  },
  {
   "cell_type": "markdown",
   "id": "40d19897",
   "metadata": {},
   "source": [
    "Strings"
   ]
  },
  {
   "cell_type": "code",
   "execution_count": 53,
   "id": "a0b2277c",
   "metadata": {},
   "outputs": [
    {
     "name": "stdout",
     "output_type": "stream",
     "text": [
      "hellohello\n"
     ]
    }
   ],
   "source": [
    "string_one = 'hello'\n",
    "string_two = 'world'\n",
    "\n",
    "print(string_one * 2)"
   ]
  },
  {
   "cell_type": "markdown",
   "id": "51b50179",
   "metadata": {},
   "source": [
    "Operator overloading, let python use the as something else, python knows + to string two side by side\n",
    "\n",
    "Or multiply to show them twice"
   ]
  },
  {
   "cell_type": "code",
   "execution_count": 55,
   "id": "ac46059c",
   "metadata": {},
   "outputs": [],
   "source": [
    "distances0 = np.array([0.1, 0.5, 0.9, 1.4])\n",
    "times0 = np.array([0.1, 0.2, 0.3, 0.4])"
   ]
  },
  {
   "cell_type": "code",
   "execution_count": 56,
   "id": "307cc2fa",
   "metadata": {},
   "outputs": [
    {
     "name": "stdout",
     "output_type": "stream",
     "text": [
      "[1.  2.5 3.  3.5]\n"
     ]
    }
   ],
   "source": [
    "speeds0 = distances0 / times0\n",
    "print(speeds0)"
   ]
  },
  {
   "cell_type": "code",
   "execution_count": 57,
   "id": "641bfc2e",
   "metadata": {},
   "outputs": [],
   "source": [
    "distances1 = [0.1, 0.5, 0.9, 1.4]\n",
    "times1 = [0.1, 0.2, 0.3, 0.4]\n",
    "\n",
    "#lists WONT work\n",
    "\n",
    "speeds = []\n",
    "for u in range(len(times1)):\n",
    "    speeds.append(distances1[u]/times1[u])"
   ]
  },
  {
   "cell_type": "code",
   "execution_count": 58,
   "id": "23d1deea",
   "metadata": {},
   "outputs": [
    {
     "name": "stdout",
     "output_type": "stream",
     "text": [
      "[1.0, 2.5, 3.0, 3.4999999999999996]\n"
     ]
    }
   ],
   "source": [
    "print(speeds)"
   ]
  },
  {
   "cell_type": "code",
   "execution_count": 59,
   "id": "5d3e5358",
   "metadata": {},
   "outputs": [],
   "source": [
    "#tuples\n",
    "\n",
    "distances3 = (0.1, 0.5, 0.9, 1.4)\n",
    "times3 = (0.1, 0.2, 0.3, 0.4)\n"
   ]
  },
  {
   "cell_type": "code",
   "execution_count": null,
   "id": "cc5065bd",
   "metadata": {},
   "outputs": [],
   "source": [
    "#how to call a doc string\n",
    "\n",
    "#help(function)\n",
    "#or\n",
    "#?function"
   ]
  }
 ],
 "metadata": {
  "kernelspec": {
   "display_name": "astroDATA",
   "language": "python",
   "name": "python3"
  },
  "language_info": {
   "codemirror_mode": {
    "name": "ipython",
    "version": 3
   },
   "file_extension": ".py",
   "mimetype": "text/x-python",
   "name": "python",
   "nbconvert_exporter": "python",
   "pygments_lexer": "ipython3",
   "version": "3.11.13"
  }
 },
 "nbformat": 4,
 "nbformat_minor": 5
}
