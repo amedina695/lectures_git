{
 "cells": [
  {
   "cell_type": "code",
   "execution_count": null,
   "id": "c260e97c",
   "metadata": {},
   "outputs": [],
   "source": [
    "# Alex Medina\n",
    "# AST 5765\n",
    "# Homework 2"
   ]
  },
  {
   "cell_type": "code",
   "execution_count": null,
   "id": "d2168e83",
   "metadata": {},
   "outputs": [],
   "source": [
    "# General libraries\n",
    "import numpy as np\n",
    "import matplotlib.pyplot as plt"
   ]
  },
  {
   "cell_type": "code",
   "execution_count": null,
   "id": "d0ab2003",
   "metadata": {},
   "outputs": [],
   "source": [
    "print('Problem 2: \\n')"
   ]
  },
  {
   "cell_type": "code",
   "execution_count": null,
   "id": "89d59e3b",
   "metadata": {},
   "outputs": [],
   "source": [
    "# a1\n",
    "\n",
    "x = np.arange(0, 1001) # Array of x integers from 0 to 1000\n",
    "print(\"Because 1 to 1000 is 1000 numbers, but we need the 0, we need 1001 elements\")\n",
    "\n",
    "# print(len(x)) # To check number of elements"
   ]
  },
  {
   "cell_type": "code",
   "execution_count": null,
   "id": "6162903d",
   "metadata": {},
   "outputs": [],
   "source": [
    "# a2\n",
    "\n",
    "print(\"Type:\",type(x)) # Printing the datatype using the type\n",
    "print(\"Max:\",np.max(x)) # Max and min of array using np commands\n",
    "print(\"Min:\",np.min(x))"
   ]
  },
  {
   "cell_type": "code",
   "execution_count": null,
   "id": "eda27abb",
   "metadata": {},
   "outputs": [],
   "source": [
    "# b1\n",
    "\n",
    "# Only intuitive way I think is by normalization\n",
    "\n",
    "x = (x/1000) * (2 * np.pi) # x/1000 will normalize to 0 to 1\n",
    "\n",
    "# print(len(x)) # Verifying still same elements"
   ]
  },
  {
   "cell_type": "code",
   "execution_count": null,
   "id": "cd539698",
   "metadata": {},
   "outputs": [],
   "source": [
    "# b2\n",
    "\n",
    "print(\"Max:\",np.max(x))\n",
    "print(\"Min:\",np.min(x))"
   ]
  },
  {
   "cell_type": "code",
   "execution_count": null,
   "id": "b39a09b9",
   "metadata": {},
   "outputs": [],
   "source": [
    "# c\n",
    "\n",
    "y = np.sin(x) # Array with values of sin(x)\n",
    "\n",
    "# print(type(y))\n",
    "# print(len(y))"
   ]
  },
  {
   "cell_type": "code",
   "execution_count": null,
   "id": "84267a0d",
   "metadata": {},
   "outputs": [],
   "source": [
    "# d\n",
    "\n",
    "print(y[234]) # Element 234 of y\n",
    "print(\"\"\"\n",
    "      Element 234 in y is not the 234th element because with python\n",
    "      the first element is 0, second element is element 1\n",
    "      so the 234th element is element 233 and element 234 is\n",
    "      the 235th element in the y array\"\"\")"
   ]
  },
  {
   "cell_type": "code",
   "execution_count": null,
   "id": "9c4d2415",
   "metadata": {},
   "outputs": [],
   "source": [
    "print('Problem 3: \\n')"
   ]
  },
  {
   "cell_type": "code",
   "execution_count": null,
   "id": "8907e835",
   "metadata": {},
   "outputs": [],
   "source": [
    "# a\n",
    "\n",
    "plt.figure()\n",
    "plt.plot(x, y)\n",
    "plt.title(\"Graph of y = sin(x)\")\n",
    "plt.xlabel(\"x\")\n",
    "plt.ylabel(\"y\")\n",
    "\n",
    "# b\n",
    "\n",
    "# https://www.geeksforgeeks.org/data-visualization/exporting-plots-to-pdf-matplotlib/\n",
    "\n",
    "plt.savefig('sine_graph.png', format=\"png\") #Saves in directory with script\n",
    "plt.show()\n"
   ]
  },
  {
   "cell_type": "code",
   "execution_count": null,
   "id": "1f346e7c",
   "metadata": {},
   "outputs": [],
   "source": [
    "print('Problem 4: \\n')"
   ]
  },
  {
   "cell_type": "code",
   "execution_count": null,
   "id": "d5e2152f",
   "metadata": {},
   "outputs": [],
   "source": [
    "# a1\n",
    "\n",
    "numb_r = round((1 * 2) / 0.02 + 1) # Denominator is step size\n",
    "# print(numb_r)\n",
    "\n",
    "# r_test = np.arange(-1, 1.02, 0.02)\n",
    "# print(len(r_test))\n",
    "# print(r_test)\n",
    "\n",
    "# Alternative (my preference)\n",
    "\n",
    "r = np.zeros(101) # Empty array of 101 elements\n",
    "i = np.arange(numb_r) # Array with values from 0 to 100\n",
    "r = -1 + i * 0.02 # Populating r with values from -1 to 1\n",
    "# print(len(r))\n",
    "# print(np.min(r))\n",
    "# print(np.max(r))\n"
   ]
  },
  {
   "cell_type": "code",
   "execution_count": null,
   "id": "0df2ae4e",
   "metadata": {},
   "outputs": [],
   "source": [
    "# a2\n",
    "\n",
    "# r_mid = np.where((r >= -0.5) & (r <= 0.5))\n",
    "# r_beg = np.zeros(25)\n",
    "# r_beg = r_beg + -0.5\n",
    "# r_end = np.zeros(25)\n",
    "# r_end = r_end + 0.5\n",
    "# r_final = np.concatenate((r_beg, r[r_mid], r_end))\n",
    "\n",
    "# https://numpy.org/doc/2.1/reference/generated/numpy.clip.html \n",
    "\n",
    "r_clip = np.clip(r, -0.5, 0.5) # Clipping values below -0.5\n",
    "\n",
    "# print(r_clip)"
   ]
  },
  {
   "cell_type": "code",
   "execution_count": null,
   "id": "136f4907",
   "metadata": {},
   "outputs": [],
   "source": [
    "# b1\n",
    "\n",
    "r_x = np.arange(101) # For x axis\n",
    "\n",
    "plt.figure()\n",
    "plt.plot(r_x, r)\n",
    "plt.plot(r_x, r_clip, color='orange')\n",
    "plt.title(\"Clipped Ramp\")\n",
    "plt.xlabel(\"x\")\n",
    "plt.ylabel(\"y\")\n",
    "\n",
    "# b2\n",
    "plt.savefig('clipped_ramp.pdf', format=\"pdf\") #Saves in directory with script\n",
    "plt.show()"
   ]
  },
  {
   "cell_type": "code",
   "execution_count": null,
   "id": "d85a6402",
   "metadata": {},
   "outputs": [],
   "source": [
    "print('Problem 5: \\n')"
   ]
  },
  {
   "cell_type": "code",
   "execution_count": null,
   "id": "4aac686d",
   "metadata": {},
   "outputs": [],
   "source": [
    "print(\"\"\"\n",
    "      The first python package that I found is called Astronomica.\n",
    "      The use is similar to astropy, where is analyzes and visualizes\n",
    "      astronomical data. However, on reddit, I see that some find\n",
    "      it easier for calculating simple things like planet mean\n",
    "      anomaly, even something useful like converting between julia\n",
    "      and gregorian dates. The first example in the intro is actually\n",
    "      a calculation of coordinates, so it seems to be a very general\n",
    "      purpose package for performing calculations of astro data.\n",
    "\n",
    "      The second package that I found is more of a niche type of \n",
    "      package called Skyfield. It is used to calculate the positions\n",
    "      of stars and planets, and even satellites. It can be used in\n",
    "      conjuction with astropy to return in astropy units but default\n",
    "      is that it agrees with units from US Naval Observatory.\n",
    "\"\"\")"
   ]
  }
 ],
 "metadata": {
  "kernelspec": {
   "display_name": "astroDATA",
   "language": "python",
   "name": "python3"
  },
  "language_info": {
   "codemirror_mode": {
    "name": "ipython",
    "version": 3
   },
   "file_extension": ".py",
   "mimetype": "text/x-python",
   "name": "python",
   "nbconvert_exporter": "python",
   "pygments_lexer": "ipython3",
   "version": "3.11.13"
  }
 },
 "nbformat": 4,
 "nbformat_minor": 5
}
