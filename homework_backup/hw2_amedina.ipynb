{
 "cells": [
  {
   "cell_type": "code",
   "execution_count": 20,
   "id": "c260e97c",
   "metadata": {},
   "outputs": [],
   "source": [
    "# Alex Medina\n",
    "# AST 5765\n",
    "# Homework 2"
   ]
  },
  {
   "cell_type": "code",
   "execution_count": 21,
   "id": "d2168e83",
   "metadata": {},
   "outputs": [],
   "source": [
    "# General libraries\n",
    "import numpy as np\n",
    "import matplotlib.pyplot as plt"
   ]
  },
  {
   "cell_type": "code",
   "execution_count": 23,
   "id": "d0ab2003",
   "metadata": {},
   "outputs": [
    {
     "name": "stdout",
     "output_type": "stream",
     "text": [
      "Problem 2: \n",
      "\n"
     ]
    }
   ],
   "source": [
    "print('Problem 2: \\n')"
   ]
  },
  {
   "cell_type": "code",
   "execution_count": 24,
   "id": "89d59e3b",
   "metadata": {},
   "outputs": [],
   "source": [
    "# a1\n",
    "\n",
    "x = np.arange(0, 1001) # Array of x integers from 0 to 1000\n",
    "# Because 1 to 1000 is 1000 numbers\n",
    "# But we need the 0 so 1001 elements\n",
    "\n",
    "# I can verify the number of elements by looking at its length\n",
    "# print(len(x))"
   ]
  },
  {
   "cell_type": "code",
   "execution_count": 26,
   "id": "6162903d",
   "metadata": {},
   "outputs": [
    {
     "name": "stdout",
     "output_type": "stream",
     "text": [
      "Type: <class 'numpy.ndarray'>\n",
      "Max: 1000\n",
      "Min: 0\n"
     ]
    }
   ],
   "source": [
    "# a2\n",
    "\n",
    "print(\"Type:\",type(x)) # Printing the datatype using the type\n",
    "print(\"Max:\",np.max(x)) # Max and min of array using np commands\n",
    "print(\"Min:\",np.min(x))"
   ]
  },
  {
   "cell_type": "code",
   "execution_count": 27,
   "id": "eda27abb",
   "metadata": {},
   "outputs": [],
   "source": [
    "# b1\n",
    "\n",
    "# Only intuitive way I think is by normalization\n",
    "# 0 will be zero, but 1000 will be 2pi\n",
    "\n",
    "x = (x/1000) * (2 * np.pi) # x/1000 will normalize to 0 to 1\n",
    "# And then just multiplied by 2*pi\n",
    "# Verifying still same number of elements\n",
    "# print(len(x))"
   ]
  },
  {
   "cell_type": "code",
   "execution_count": 28,
   "id": "cd539698",
   "metadata": {},
   "outputs": [
    {
     "name": "stdout",
     "output_type": "stream",
     "text": [
      "Max: 6.283185307179586\n",
      "Min: 0.0\n"
     ]
    }
   ],
   "source": [
    "# b2\n",
    "\n",
    "print(\"Max:\",np.max(x))\n",
    "print(\"Min:\",np.min(x))"
   ]
  },
  {
   "cell_type": "code",
   "execution_count": 29,
   "id": "b39a09b9",
   "metadata": {},
   "outputs": [],
   "source": [
    "# c\n",
    "\n",
    "y = np.sin(x) # Array with values of sin(x)\n",
    "\n",
    "# Verifying properties\n",
    "# print(type(y))\n",
    "# print(len(y))"
   ]
  },
  {
   "cell_type": "code",
   "execution_count": null,
   "id": "84267a0d",
   "metadata": {},
   "outputs": [
    {
     "name": "stdout",
     "output_type": "stream",
     "text": [
      "0.9949510169813002\n"
     ]
    }
   ],
   "source": [
    "# d\n",
    "\n",
    "print(y[234]) # Element 234 of y\n",
    "\n",
    "# Element 234 in y is not the 234th element of y\n",
    "# The first element in an array is element 0\n",
    "# So the 234th element in the array is element 233\n",
    "# And element 234 is the 235th element in the array"
   ]
  },
  {
   "cell_type": "code",
   "execution_count": 31,
   "id": "9c4d2415",
   "metadata": {},
   "outputs": [
    {
     "name": "stdout",
     "output_type": "stream",
     "text": [
      "Problem 3: \n",
      "\n"
     ]
    }
   ],
   "source": [
    "print('Problem 3: \\n')"
   ]
  },
  {
   "cell_type": "code",
   "execution_count": 38,
   "id": "8907e835",
   "metadata": {},
   "outputs": [
    {
     "data": {
      "image/png": "[encoded data removed]",
      "text/plain": [
       "<Figure size 640x480 with 1 Axes>"
      ]
     },
     "metadata": {},
     "output_type": "display_data"
    }
   ],
   "source": [
    "# a\n",
    "\n",
    "plt.Figure(figsize=(6,3))\n",
    "plt.plot(x, y, color='blue')\n",
    "plt.title(\"Graph of y = sin(x)\")\n",
    "plt.xlabel(\"x\")\n",
    "plt.ylabel(\"y\")\n",
    "plt.show()"
   ]
  },
  {
   "cell_type": "code",
   "execution_count": 34,
   "id": "650508ad",
   "metadata": {},
   "outputs": [
    {
     "data": {
      "text/plain": [
       "<Figure size 640x480 with 0 Axes>"
      ]
     },
     "metadata": {},
     "output_type": "display_data"
    }
   ],
   "source": [
    "# b\n",
    "\n",
    "plt.savefig('sine_graph.png')\n"
   ]
  },
  {
   "cell_type": "markdown",
   "id": "abdd0bd8",
   "metadata": {},
   "source": [
    "Problem 4"
   ]
  },
  {
   "cell_type": "code",
   "execution_count": 35,
   "id": "d5e2152f",
   "metadata": {},
   "outputs": [],
   "source": [
    "# a1\n",
    "\n",
    "# I've used this method in a lightcurve method\n",
    "\n",
    "numb_r = round((1 * 2) / 0.02 + 1) # Denominator is step size\n",
    "# print(numb_r)\n",
    "# Testing gives me that 0.02 gives 101 elements\n",
    "\n",
    "# Can make like\n",
    "# r_test = np.arange(-1, 1.02, 0.02)\n",
    "# print(len(r_test))\n",
    "# print(r_test)\n",
    "\n",
    "# But my alternative way to not care about messing with\n",
    "# floats or integers\n",
    "\n",
    "r = np.zeros(101) # Empty array of 101 elements\n",
    "i = np.arange(numb_r) # Array with values from 0 to 100\n",
    "r = -1 + i * 0.02 # Popilating r with values from -1 to 1\n",
    "# and step size of 0.02\n",
    "# print(len(r))\n",
    "# print(np.min(r))\n",
    "# print(np.max(r))\n"
   ]
  },
  {
   "cell_type": "code",
   "execution_count": null,
   "id": "0df2ae4e",
   "metadata": {},
   "outputs": [],
   "source": [
    "# a2\n",
    "\n",
    "# My method without research\n",
    "\n",
    "# r_mid = np.where((r >= -0.5) & (r <= 0.5))\n",
    "# r_beg = np.zeros(25)\n",
    "# r_beg = r_beg + -0.5\n",
    "# r_end = np.zeros(25)\n",
    "# r_end = r_end + 0.5\n",
    "# r_final = np.concatenate((r_beg, r[r_mid], r_end))\n",
    "\n",
    "# After looking at numpy documentation\n",
    "# https://numpy.org/doc/2.1/reference/generated/numpy.clip.html \n",
    "r_clip = np.clip(r, -0.5, 0.5) # Clipping values below -0.5\n",
    "# and above 0.5 to -0.5 and 0.5 respectively\n",
    "# print(r_clip)"
   ]
  },
  {
   "cell_type": "code",
   "execution_count": 41,
   "id": "136f4907",
   "metadata": {},
   "outputs": [
    {
     "data": {
      "image/png": "[encoded data removed]",
      "text/plain": [
       "<Figure size 640x480 with 1 Axes>"
      ]
     },
     "metadata": {},
     "output_type": "display_data"
    }
   ],
   "source": [
    "# b1\n",
    "\n",
    "# Creating x axis which are just the 101 elements\n",
    "r_x = np.arange(101)\n",
    "\n",
    "plt.Figure(figsize=(6,3))\n",
    "plt.plot(r_x, r, color='blue')\n",
    "plt.plot(r_x, r_clip, color='orange')\n",
    "plt.title(\"Clipped Ramp\")\n",
    "plt.xlabel(\"x\")\n",
    "plt.ylabel(\"y\")\n",
    "plt.show()"
   ]
  },
  {
   "cell_type": "code",
   "execution_count": 42,
   "id": "80ada467",
   "metadata": {},
   "outputs": [
    {
     "data": {
      "text/plain": [
       "<Figure size 640x480 with 0 Axes>"
      ]
     },
     "metadata": {},
     "output_type": "display_data"
    }
   ],
   "source": [
    "# b2\n",
    "\n",
    "plt.savefig('clipped_ramp.pdf') # Saving as pdf"
   ]
  }
 ],
 "metadata": {
  "kernelspec": {
   "display_name": "astroDATA",
   "language": "python",
   "name": "python3"
  },
  "language_info": {
   "codemirror_mode": {
    "name": "ipython",
    "version": 3
   },
   "file_extension": ".py",
   "mimetype": "text/x-python",
   "name": "python",
   "nbconvert_exporter": "python",
   "pygments_lexer": "ipython3",
   "version": "3.11.13"
  }
 },
 "nbformat": 4,
 "nbformat_minor": 5
}
